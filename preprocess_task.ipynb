{
 "cells": [
  {
   "cell_type": "code",
   "execution_count": 1,
   "metadata": {},
   "outputs": [],
   "source": [
    "from pandas import read_csv, DataFrame\n",
    "from os import getcwd\n",
    "from re import sub\n",
    "\n",
    "NUM_PARTICIPANTS = 9"
   ]
  },
  {
   "cell_type": "code",
   "execution_count": 31,
   "metadata": {},
   "outputs": [],
   "source": [
    "##########################################################################################\n",
    "def get_raw_data():\n",
    "    \n",
    "    my_curr_dir = getcwd()\n",
    "    my_file_dir = my_curr_dir + \"\\data\\\\task\\summary.csv\"\n",
    "    big_df = read_csv(my_file_dir)\n",
    "    # num_cols = big_df.shape[1]\n",
    "    # df = big_df.iloc[:, 17:num_cols]\n",
    "    # df = df.fillna(1)\n",
    "    # df.drop(1, axis=\"index\", inplace=True)\n",
    "    # df.reset_index(drop=True, inplace=True)\n",
    "    \n",
    "    print(\"\\n Finished reading raw csv file! \\n\")\n",
    "    \n",
    "    return big_df\n",
    "\n",
    "\n",
    "##########################################################################################\n",
    "def preprocess_data():\n",
    "    \n",
    "    # get overall dataframe\n",
    "    raw = get_raw_data()\n",
    "    \n",
    "    # get first 2 columns as lists\n",
    "    part_id_list = raw.iloc[0:NUM_PARTICIPANTS*8, 0].tolist()\n",
    "    for i in range(len(part_id_list)):\n",
    "        # part_id_list[i] = int(sub(\"P\", \"\", part_id_list[i]))\n",
    "        part_id_list[i] = int(part_id_list[i])\n",
    "        \n",
    "    # get the conditions column and the single-scale difficulty column\n",
    "    cond_id_list = raw.iloc[0:NUM_PARTICIPANTS*8, 1].tolist()\n",
    "        \n",
    "    new_part_id_list = []\n",
    "    new_cond_id_list = []\n",
    "    for i in range(0, len(part_id_list), 2):\n",
    "        new_part_id_list.append(part_id_list[i])\n",
    "        new_cond_id_list.append(cond_id_list[i])\n",
    "    part_id_list = new_part_id_list\n",
    "    cond_id_list = new_cond_id_list\n",
    "    \n",
    "    first_trial_times = raw[raw['Trial']==1]['AverageTime_seconds'].tolist()\n",
    "    second_trial_times = raw[raw['Trial']==2]['AverageTime_seconds'].tolist()\n",
    "    ave_time_list = [(first_trial_times[i] + second_trial_times[i])/2 for i in range(len(first_trial_times))]\n",
    "\n",
    "\n",
    "    ###### write to new (cleaned) dataframe ######\n",
    "    \n",
    "    # generate new dataframe\n",
    "    df_dict = {\n",
    "        'pid': part_id_list,\n",
    "        'condition': cond_id_list,\n",
    "        'time': ave_time_list\n",
    "    }\n",
    "    cleaned_df = DataFrame(df_dict)\n",
    "    \n",
    "    # write new dataframe to csv file\n",
    "    dest_path = getcwd() + \"\\data\\\\task\" + '\\summary_cleaned.csv'\n",
    "    cleaned_df.to_csv(dest_path, index=False)\n",
    "    \n",
    "    print(\" Successfully written pre-processed data to csv file! \\n\")"
   ]
  },
  {
   "cell_type": "code",
   "execution_count": 32,
   "metadata": {},
   "outputs": [
    {
     "name": "stdout",
     "output_type": "stream",
     "text": [
      "\n",
      " Finished reading raw csv file! \n",
      "\n",
      " Successfully written pre-processed data to csv file! \n",
      "\n"
     ]
    }
   ],
   "source": [
    "preprocess_data()"
   ]
  }
 ],
 "metadata": {
  "kernelspec": {
   "display_name": "Python 3",
   "language": "python",
   "name": "python3"
  },
  "language_info": {
   "codemirror_mode": {
    "name": "ipython",
    "version": 3
   },
   "file_extension": ".py",
   "mimetype": "text/x-python",
   "name": "python",
   "nbconvert_exporter": "python",
   "pygments_lexer": "ipython3",
   "version": "3.11.4"
  }
 },
 "nbformat": 4,
 "nbformat_minor": 2
}
