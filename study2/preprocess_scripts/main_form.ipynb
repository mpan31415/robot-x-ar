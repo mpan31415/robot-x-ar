{
 "cells": [
  {
   "cell_type": "code",
   "execution_count": 1,
   "metadata": {},
   "outputs": [],
   "source": [
    "from pandas import read_csv, DataFrame\n",
    "from os import getcwd\n",
    "from re import sub\n",
    "\n",
    "NUM_PARTICIPANTS = 15"
   ]
  },
  {
   "cell_type": "code",
   "execution_count": 18,
   "metadata": {},
   "outputs": [],
   "source": [
    "##########################################################################################\n",
    "def get_raw_data():\n",
    "    \n",
    "    my_file_dir = 'c:\\\\Users\\\\micha\\\\OneDrive\\\\My_GitHub_Repos\\\\robot-x-ar\\\\study2\\\\data\\\\questionnaire\\\\main_form.csv'\n",
    "    big_df = read_csv(my_file_dir)\n",
    "    num_cols = big_df.shape[1]\n",
    "    df = big_df.iloc[2:2+NUM_PARTICIPANTS*2, 17:-1]\n",
    "    # df = df.fillna(1)\n",
    "    \n",
    "    print(\"\\n Finished reading raw csv file! \\n\")\n",
    "    \n",
    "    return df\n",
    "\n",
    "\n",
    "##########################################################################################\n",
    "def preprocess_data():\n",
    "    \n",
    "    # get overall dataframe\n",
    "    raw = get_raw_data()\n",
    "    \n",
    "    # get first 2 columns as lists\n",
    "    part_id_list = raw.iloc[:,0].tolist()\n",
    "    for i in range(len(part_id_list)):\n",
    "        # part_id_list[i] = int(sub(\"P\", \"\", part_id_list[i]))\n",
    "        part_id_list[i] = int(part_id_list[i])\n",
    "    \n",
    "    # get the conditions column and the single-scale difficulty column\n",
    "    cond_list = raw.iloc[:, 1].apply(lambda x: \"yes\" if x[0]==\"Y\" else \"no\").tolist()\n",
    "    difficulty_list = raw.iloc[:, 2].apply(lambda x: float(8.0 - float(x))).tolist()\n",
    "    \n",
    "    # get lists for each tlx dimension\n",
    "    tlx1_list = raw.iloc[:, 3].apply(lambda x: float(x)).tolist()\n",
    "    tlx2_list = raw.iloc[:, 4].apply(lambda x: float(x)).tolist()\n",
    "    tlx3_list = raw.iloc[:, 5].apply(lambda x: float(x)).tolist()\n",
    "    tlx4_list = raw.iloc[:, 6].apply(lambda x: float(21.0 - float(x))).tolist()\n",
    "    tlx5_list = raw.iloc[:, 7].apply(lambda x: float(x)).tolist()\n",
    "    tlx6_list = raw.iloc[:, 8].apply(lambda x: float(x)).tolist()\n",
    "    \n",
    "    # get average values of TLX\n",
    "    tlx_ave_list = []\n",
    "    for i in range(len(tlx1_list)):\n",
    "        tlx_row_list = [tlx1_list[i], tlx2_list[i], tlx3_list[i], tlx4_list[i], tlx5_list[i], tlx6_list[i]]\n",
    "        tlx_ave = sum(tlx_row_list) / len(tlx_row_list)\n",
    "        tlx_ave_list.append(tlx_ave)\n",
    "        \n",
    "    \n",
    "    ###### write to new (cleaned) dataframe ######\n",
    "    \n",
    "    # generate new dataframe\n",
    "    df_dict = {\n",
    "        'pid': part_id_list,\n",
    "        'condition': cond_list,\n",
    "        'difficulty': difficulty_list,\n",
    "        'tlx_mental': tlx1_list,\n",
    "        'tlx_physical': tlx2_list,\n",
    "        'tlx_hurried': tlx3_list,\n",
    "        'tlx_successful': tlx4_list,\n",
    "        'tlx_hard': tlx5_list,\n",
    "        'tlx_insecure': tlx6_list,\n",
    "        'tlx_ave': tlx_ave_list\n",
    "    }\n",
    "    cleaned_df = DataFrame(df_dict)\n",
    "    \n",
    "    # write new dataframe to csv file\n",
    "    # dest_path = getcwd() + \"\\data\\questionnaire\" + '\\main_form_cleaned.csv'\n",
    "    dest_path = 'c:\\\\Users\\\\micha\\\\OneDrive\\\\My_GitHub_Repos\\\\robot-x-ar\\\\study2\\\\data\\\\questionnaire\\\\main_form_cleaned.csv'\n",
    "    cleaned_df.to_csv(dest_path, index=False)\n",
    "    \n",
    "    print(\" Successfully written pre-processed data to csv file! \\n\")"
   ]
  },
  {
   "cell_type": "code",
   "execution_count": 19,
   "metadata": {},
   "outputs": [
    {
     "name": "stdout",
     "output_type": "stream",
     "text": [
      "\n",
      " Finished reading raw csv file! \n",
      "\n",
      " Successfully written pre-processed data to csv file! \n",
      "\n"
     ]
    }
   ],
   "source": [
    "preprocess_data()"
   ]
  }
 ],
 "metadata": {
  "kernelspec": {
   "display_name": "Python 3",
   "language": "python",
   "name": "python3"
  },
  "language_info": {
   "codemirror_mode": {
    "name": "ipython",
    "version": 3
   },
   "file_extension": ".py",
   "mimetype": "text/x-python",
   "name": "python",
   "nbconvert_exporter": "python",
   "pygments_lexer": "ipython3",
   "version": "3.11.4"
  }
 },
 "nbformat": 4,
 "nbformat_minor": 2
}
