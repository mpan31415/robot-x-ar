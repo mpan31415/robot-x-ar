{
 "cells": [
  {
   "cell_type": "code",
   "execution_count": 2,
   "id": "76bdfafa",
   "metadata": {},
   "outputs": [],
   "source": [
    "from pandas import read_csv\n",
    "from os import getcwd\n",
    "import matplotlib.pyplot as plt\n",
    "\n",
    "%matplotlib inline"
   ]
  },
  {
   "cell_type": "code",
   "execution_count": 3,
   "id": "e66c6255",
   "metadata": {},
   "outputs": [],
   "source": [
    "##########################################################################################\n",
    "def get_df(file_name):\n",
    "    my_file_dir = getcwd() + \"\\\\\" + file_name + \".csv\"\n",
    "    df = read_csv(my_file_dir)\n",
    "    return df"
   ]
  },
  {
   "cell_type": "markdown",
   "id": "f52101b2",
   "metadata": {},
   "source": [
    "## 1. Grouped"
   ]
  },
  {
   "cell_type": "code",
   "execution_count": 19,
   "id": "1fafea5f",
   "metadata": {},
   "outputs": [
    {
     "name": "stdout",
     "output_type": "stream",
     "text": [
      "PID 3 | condition: yes | Before times: (509.568, 121.242), After outlier removal times: (160.96552173913045, 121.242)\n",
      "PID 16 | condition: no | Before times: (140.136, 481.382), After outlier removal times: (140.136, 154.43175)\n",
      "PID 17 | condition: no | Before times: (135.532, 359.888), After outlier removal times: (135.532, 154.43175)\n",
      "PID 20 | condition: no | Before times: (290.834, 541.993), After outlier removal times: (290.834, 154.43175)\n",
      "PID 21 | condition: no | Before times: (175.328, 379.81), After outlier removal times: (175.328, 154.43175)\n"
     ]
    }
   ],
   "source": [
    "mt_grouped_df = get_df(\"mt_grouped\")\n",
    "mt_grouped_no_outlier_df = get_df(\"mt_grouped_no_outlier\")\n",
    "\n",
    "for pid in range(1, 25):\n",
    "    part_row = mt_grouped_df[mt_grouped_df[\"pid\"] == pid]\n",
    "    part_row_no_outlier = mt_grouped_no_outlier_df[mt_grouped_no_outlier_df[\"pid\"] == pid]\n",
    "    # print(part_row)\n",
    "    # print(part_row_no_outlier)\n",
    "    before_times = (part_row[part_row[\"condition\"]==\"yes\"][\"time\"].tolist()[0], part_row[part_row[\"condition\"]==\"no\"][\"time\"].tolist()[0])\n",
    "    after_times = (part_row_no_outlier[part_row_no_outlier[\"condition\"]==\"yes\"][\"time\"].tolist()[0], part_row_no_outlier[part_row_no_outlier[\"condition\"]==\"no\"][\"time\"].tolist()[0])\n",
    "    if before_times[0] != after_times[0]:\n",
    "        print(\"PID {} | condition: yes | Before times: {}, After outlier removal times: {}\".format(pid, before_times, after_times))\n",
    "    if before_times[1] != after_times[1]:\n",
    "        print(\"PID {} | condition: no | Before times: {}, After outlier removal times: {}\".format(pid, before_times, after_times))"
   ]
  },
  {
   "cell_type": "markdown",
   "id": "ff70ab73",
   "metadata": {},
   "source": [
    "## 2. Full"
   ]
  },
  {
   "cell_type": "code",
   "execution_count": 17,
   "id": "6d73e9e8",
   "metadata": {},
   "outputs": [
    {
     "name": "stdout",
     "output_type": "stream",
     "text": [
      "PID 3 | condition: yes | posture: Q1FrontUp | Before mt: 165.4686, After outlier removal mt: 165.4686\n",
      "PID 3 | condition: yes | posture: Q3FrontDown | Before mt: 81.0446, After outlier removal mt: 81.0446\n",
      "PID 3 | condition: yes | posture: Q3FrontUp | Before mt: 128.7529, After outlier removal mt: 128.7529\n",
      "PID 4 | condition: no | posture: Q3FrontDown | Before mt: 102.9048, After outlier removal mt: 102.9048\n",
      "PID 4 | condition: yes | posture: Q1FrontUp | Before mt: 154.1275, After outlier removal mt: 154.1275\n",
      "PID 6 | condition: yes | posture: Q1FrontDown | Before mt: 178.8129, After outlier removal mt: 178.8129\n",
      "PID 9 | condition: yes | posture: Q3FrontUp | Before mt: 135.3879, After outlier removal mt: 135.3879\n",
      "PID 10 | condition: yes | posture: Q3FrontUp | Before mt: 130.9352, After outlier removal mt: 130.9352\n",
      "PID 16 | condition: no | posture: Q1FrontUp | Before mt: 175.7583, After outlier removal mt: 175.7583\n",
      "PID 16 | condition: no | posture: Q3FrontDown | Before mt: 102.7018, After outlier removal mt: 102.7018\n",
      "PID 17 | condition: no | posture: Q1FrontDown | Before mt: 201.2916, After outlier removal mt: 201.2916\n",
      "PID 20 | condition: no | posture: Q1FrontUp | Before mt: 158.3085, After outlier removal mt: 158.3085\n",
      "PID 20 | condition: no | posture: Q3FrontUp | Before mt: 191.1275, After outlier removal mt: 191.1275\n",
      "PID 21 | condition: no | posture: Q1FrontUp | Before mt: 193.1155, After outlier removal mt: 193.1155\n"
     ]
    }
   ],
   "source": [
    "mt_full_df = get_df(\"mt_full\")\n",
    "mt_full_no_outlier_df = get_df(\"mt_full_no_outlier\")\n",
    "# sort both by [pid, condition, posture]\n",
    "mt_full_df = mt_full_df.sort_values(by=[\"pid\", \"condition\", \"posture\"])\n",
    "mt_full_no_outlier_df = mt_full_no_outlier_df.sort_values(by=[\"pid\", \"condition\", \"posture\"])\n",
    "\n",
    "# print(mt_full_df.head(20))\n",
    "# print(mt_full_no_outlier_df.head(20))\n",
    "\n",
    "posture_names = [\"Q1FrontDown\", \"Q1FrontUp\", \"Q3FrontDown\", \"Q3FrontUp\"]\n",
    "\n",
    "for pid in range(1, 25):\n",
    "    part_row = mt_full_df[mt_full_df[\"pid\"] == pid]\n",
    "    part_row_no_outlier = mt_full_no_outlier_df[mt_full_no_outlier_df[\"pid\"] == pid]\n",
    "    \n",
    "    for i in range(part_row.shape[0]):\n",
    "        if part_row.iloc[i][\"mt\"] != part_row_no_outlier.iloc[i][\"mt\"]:\n",
    "            row = part_row.iloc[i]\n",
    "            print(\"PID {} | condition: {} | posture: {} | Before mt: {}, After outlier removal mt: {}\".format(pid, row[\"condition\"], row[\"posture\"], row[\"mt\"], row[\"mt\"]))\n"
   ]
  }
 ],
 "metadata": {
  "kernelspec": {
   "display_name": "Python 3",
   "language": "python",
   "name": "python3"
  },
  "language_info": {
   "codemirror_mode": {
    "name": "ipython",
    "version": 3
   },
   "file_extension": ".py",
   "mimetype": "text/x-python",
   "name": "python",
   "nbconvert_exporter": "python",
   "pygments_lexer": "ipython3",
   "version": "3.11.4"
  }
 },
 "nbformat": 4,
 "nbformat_minor": 5
}
