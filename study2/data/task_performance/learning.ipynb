{
 "cells": [
  {
   "cell_type": "code",
   "execution_count": 1,
   "metadata": {},
   "outputs": [],
   "source": [
    "from pandas import read_csv, DataFrame\n",
    "from os import getcwd"
   ]
  },
  {
   "cell_type": "code",
   "execution_count": 2,
   "metadata": {},
   "outputs": [],
   "source": [
    "##########################################################################################\n",
    "def get_task_data():\n",
    "    my_file_dir = getcwd() + \"\\\\movement_time.csv\"\n",
    "    df = read_csv(my_file_dir)\n",
    "    return df\n",
    "\n",
    "\n",
    "##########################################################################################\n",
    "def replace_outliers_within_group(df:DataFrame, group_columns:list, target_column:str):\n",
    "    # Reset index to ensure group_columns are not in the index\n",
    "    df = df.reset_index(drop=True)\n",
    "\n",
    "    # Function to calculate and replace outliers within each group\n",
    "    def replace(group):\n",
    "        Q1 = group[target_column].quantile(0.25)\n",
    "        Q3 = group[target_column].quantile(0.75)\n",
    "        IQR = Q3 - Q1\n",
    "        lower_bound = Q1 - 1.5 * IQR\n",
    "        upper_bound = Q3 + 1.5 * IQR\n",
    "        mean_value = group[(group[target_column] >= lower_bound) & (group[target_column] <= upper_bound)][target_column].mean()\n",
    "        group[target_column] = group[target_column].apply(lambda x: mean_value if x < lower_bound or x > upper_bound else x)\n",
    "        return group\n",
    "\n",
    "    # Apply the function to each subgroup\n",
    "    return df.groupby(group_columns).apply(replace).reset_index(drop=True)"
   ]
  },
  {
   "cell_type": "code",
   "execution_count": 3,
   "metadata": {},
   "outputs": [
    {
     "data": {
      "text/html": [
       "<div>\n",
       "<style scoped>\n",
       "    .dataframe tbody tr th:only-of-type {\n",
       "        vertical-align: middle;\n",
       "    }\n",
       "\n",
       "    .dataframe tbody tr th {\n",
       "        vertical-align: top;\n",
       "    }\n",
       "\n",
       "    .dataframe thead th {\n",
       "        text-align: right;\n",
       "    }\n",
       "</style>\n",
       "<table border=\"1\" class=\"dataframe\">\n",
       "  <thead>\n",
       "    <tr style=\"text-align: right;\">\n",
       "      <th></th>\n",
       "      <th>pid</th>\n",
       "      <th>condition</th>\n",
       "      <th>time</th>\n",
       "    </tr>\n",
       "  </thead>\n",
       "  <tbody>\n",
       "    <tr>\n",
       "      <th>0</th>\n",
       "      <td>1</td>\n",
       "      <td>yes</td>\n",
       "      <td>89.317</td>\n",
       "    </tr>\n",
       "    <tr>\n",
       "      <th>1</th>\n",
       "      <td>1</td>\n",
       "      <td>no</td>\n",
       "      <td>52.200</td>\n",
       "    </tr>\n",
       "    <tr>\n",
       "      <th>2</th>\n",
       "      <td>2</td>\n",
       "      <td>yes</td>\n",
       "      <td>36.629</td>\n",
       "    </tr>\n",
       "    <tr>\n",
       "      <th>3</th>\n",
       "      <td>2</td>\n",
       "      <td>no</td>\n",
       "      <td>105.725</td>\n",
       "    </tr>\n",
       "    <tr>\n",
       "      <th>4</th>\n",
       "      <td>3</td>\n",
       "      <td>yes</td>\n",
       "      <td>509.568</td>\n",
       "    </tr>\n",
       "  </tbody>\n",
       "</table>\n",
       "</div>"
      ],
      "text/plain": [
       "   pid condition     time\n",
       "0    1       yes   89.317\n",
       "1    1        no   52.200\n",
       "2    2       yes   36.629\n",
       "3    2        no  105.725\n",
       "4    3       yes  509.568"
      ]
     },
     "execution_count": 3,
     "metadata": {},
     "output_type": "execute_result"
    }
   ],
   "source": [
    "df = get_task_data()\n",
    "df.head(5)"
   ]
  },
  {
   "cell_type": "code",
   "execution_count": 12,
   "metadata": {},
   "outputs": [
    {
     "name": "stdout",
     "output_type": "stream",
     "text": [
      "[89.317, 52.2]\n",
      "[36.629, 105.725]\n",
      "[509.568, 121.242]\n",
      "[307.271, 188.917]\n",
      "[152.579, 85.672]\n",
      "[251.613, 128.886]\n",
      "[212.199, 200.265]\n",
      "[58.614, 106.789]\n",
      "[281.966, 131.84]\n",
      "[308.775, 161.278]\n",
      "[113.49, 95.614]\n",
      "[181.109, 163.405]\n",
      "[149.237, 198.849]\n",
      "[138.109, 201.697]\n",
      "[86.046, 139.272]\n",
      "[140.136, 481.382]\n",
      "[135.532, 359.888]\n",
      "[89.552, 287.084]\n",
      "[99.073, 238.626]\n",
      "[290.834, 541.993]\n",
      "[175.328, 379.81]\n",
      "[180.001, 176.573]\n",
      "[133.392, 202.42]\n",
      "[91.405, 102.281]\n",
      "[1, 2, 3, 4, 5, 6, 7, 8, 9, 10, 11, 12, 13, 14, 15, 16, 17, 18, 19, 20, 21, 22, 23, 24]\n",
      "['viz_first', 'viz_first', 'viz_first', 'viz_first', 'viz_first', 'viz_first', 'viz_first', 'viz_first', 'viz_first', 'viz_first', 'viz_first', 'viz_first', 'none_first', 'none_first', 'none_first', 'none_first', 'none_first', 'none_first', 'none_first', 'none_first', 'none_first', 'none_first', 'none_first', 'none_first']\n",
      "[-37.11699999999999, 69.096, -388.32599999999996, -118.35400000000001, -66.90700000000001, -122.727, -11.934000000000026, 48.175000000000004, -150.126, -147.49699999999999, -17.87599999999999, -17.704000000000008, -49.611999999999995, -63.587999999999994, -53.225999999999985, -341.246, -224.35599999999997, -197.53199999999998, -139.553, -251.15900000000005, -204.482, 3.4279999999999973, -69.02799999999999, -10.876000000000005]\n"
     ]
    }
   ],
   "source": [
    "pid_list = []\n",
    "order_list = []\n",
    "time_diff_list = []\n",
    "time_diff_order_list = []\n",
    "\n",
    "for part_id in range(1, 25):\n",
    "    pid_list.append(part_id)\n",
    "    pdf = df[df['pid']==part_id]\n",
    "    time_lst = pdf['time'].tolist()\n",
    "    print(time_lst)\n",
    "    if part_id < 13:\n",
    "        # print(\"part_id less\")\n",
    "        order_list.append(\"viz_first\")   # yes -> no\n",
    "        time_diff = time_lst[1] - time_lst[0]\n",
    "        time_diff_order = time_lst[0] - time_lst[1]\n",
    "        time_diff_list.append(time_diff)\n",
    "        time_diff_order_list.append(time_diff_order)\n",
    "    else:\n",
    "        # print(\"part id more\")\n",
    "        order_list.append(\"none_first\")    # no -> yes\n",
    "        time_diff = time_lst[0] - time_lst[1]\n",
    "        time_diff_order = time_lst[1] - time_lst[0]\n",
    "        time_diff_list.append(time_diff)\n",
    "        time_diff_order_list.append(time_diff_order)\n",
    "        \n",
    "print(pid_list)\n",
    "print(order_list)\n",
    "print(time_diff_list)"
   ]
  },
  {
   "cell_type": "code",
   "execution_count": 14,
   "metadata": {},
   "outputs": [],
   "source": [
    "# generate new dataframe\n",
    "df_dict = {\n",
    "    'pid': pid_list,\n",
    "    'cond_order': order_list,\n",
    "    'time_diff': time_diff_list,\n",
    "    'time_diff_order': time_diff_order_list\n",
    "}\n",
    "td_df = DataFrame(df_dict).sort_values(by=\"pid\")\n",
    "td_df = replace_outliers_within_group(td_df, ['cond_order'], \"time_diff\")\n",
    "td_df = replace_outliers_within_group(td_df, ['cond_order'], \"time_diff_order\")\n",
    "\n",
    "# write new dataframe to csv file\n",
    "dest_path = getcwd() + \"\\\\learning.csv\"\n",
    "td_df.to_csv(dest_path, index=False)"
   ]
  }
 ],
 "metadata": {
  "kernelspec": {
   "display_name": "Python 3",
   "language": "python",
   "name": "python3"
  },
  "language_info": {
   "codemirror_mode": {
    "name": "ipython",
    "version": 3
   },
   "file_extension": ".py",
   "mimetype": "text/x-python",
   "name": "python",
   "nbconvert_exporter": "python",
   "pygments_lexer": "ipython3",
   "version": "3.11.4"
  }
 },
 "nbformat": 4,
 "nbformat_minor": 2
}
