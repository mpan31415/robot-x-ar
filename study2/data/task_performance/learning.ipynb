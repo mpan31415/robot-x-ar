{
 "cells": [
  {
   "cell_type": "code",
   "execution_count": 2,
   "metadata": {},
   "outputs": [],
   "source": [
    "from pandas import read_csv, DataFrame\n",
    "from os import getcwd"
   ]
  },
  {
   "cell_type": "code",
   "execution_count": 3,
   "metadata": {},
   "outputs": [],
   "source": [
    "##########################################################################################\n",
    "def get_task_data():\n",
    "    my_file_dir = getcwd() + \"\\\\movement_time.csv\"\n",
    "    df = read_csv(my_file_dir)\n",
    "    return df"
   ]
  },
  {
   "cell_type": "code",
   "execution_count": 4,
   "metadata": {},
   "outputs": [
    {
     "data": {
      "text/html": [
       "<div>\n",
       "<style scoped>\n",
       "    .dataframe tbody tr th:only-of-type {\n",
       "        vertical-align: middle;\n",
       "    }\n",
       "\n",
       "    .dataframe tbody tr th {\n",
       "        vertical-align: top;\n",
       "    }\n",
       "\n",
       "    .dataframe thead th {\n",
       "        text-align: right;\n",
       "    }\n",
       "</style>\n",
       "<table border=\"1\" class=\"dataframe\">\n",
       "  <thead>\n",
       "    <tr style=\"text-align: right;\">\n",
       "      <th></th>\n",
       "      <th>pid</th>\n",
       "      <th>condition</th>\n",
       "      <th>time</th>\n",
       "    </tr>\n",
       "  </thead>\n",
       "  <tbody>\n",
       "    <tr>\n",
       "      <th>0</th>\n",
       "      <td>1</td>\n",
       "      <td>yes</td>\n",
       "      <td>89.317</td>\n",
       "    </tr>\n",
       "    <tr>\n",
       "      <th>1</th>\n",
       "      <td>1</td>\n",
       "      <td>no</td>\n",
       "      <td>52.200</td>\n",
       "    </tr>\n",
       "    <tr>\n",
       "      <th>2</th>\n",
       "      <td>2</td>\n",
       "      <td>yes</td>\n",
       "      <td>36.629</td>\n",
       "    </tr>\n",
       "    <tr>\n",
       "      <th>3</th>\n",
       "      <td>2</td>\n",
       "      <td>no</td>\n",
       "      <td>105.725</td>\n",
       "    </tr>\n",
       "    <tr>\n",
       "      <th>4</th>\n",
       "      <td>3</td>\n",
       "      <td>yes</td>\n",
       "      <td>509.568</td>\n",
       "    </tr>\n",
       "  </tbody>\n",
       "</table>\n",
       "</div>"
      ],
      "text/plain": [
       "   pid condition     time\n",
       "0    1       yes   89.317\n",
       "1    1        no   52.200\n",
       "2    2       yes   36.629\n",
       "3    2        no  105.725\n",
       "4    3       yes  509.568"
      ]
     },
     "execution_count": 4,
     "metadata": {},
     "output_type": "execute_result"
    }
   ],
   "source": [
    "df = get_task_data()\n",
    "df.head(5)"
   ]
  },
  {
   "cell_type": "code",
   "execution_count": 5,
   "metadata": {},
   "outputs": [
    {
     "name": "stdout",
     "output_type": "stream",
     "text": [
      "[1, 2, 3, 4, 5, 6, 7, 8, 9, 10, 11, 12, 13, 14, 15, 16, 17, 18, 19, 20, 21, 22, 23, 24]\n",
      "['viz_first', 'viz_first', 'viz_first', 'viz_first', 'viz_first', 'viz_first', 'viz_first', 'viz_first', 'viz_first', 'viz_first', 'viz_first', 'viz_first', 'none_first', 'none_first', 'none_first', 'none_first', 'none_first', 'none_first', 'none_first', 'none_first', 'none_first', 'none_first', 'none_first', 'none_first']\n",
      "[-37.11699999999999, 69.096, -388.32599999999996, -118.35400000000001, -66.90700000000001, -122.727, -11.934000000000026, 48.175000000000004, -150.126, -147.49699999999999, -17.87599999999999, -17.704000000000008, 49.611999999999995, 63.587999999999994, 53.225999999999985, 341.246, 224.35599999999997, 197.53199999999998, 139.553, 251.15900000000005, 204.482, -3.4279999999999973, 69.02799999999999, 10.876000000000005]\n"
     ]
    }
   ],
   "source": [
    "pid_list = []\n",
    "order_list = []\n",
    "time_diff_list = []\n",
    "\n",
    "for part_id in range(1, 25):\n",
    "    pid_list.append(part_id)\n",
    "    pdf = df[df['pid']==part_id]\n",
    "    time_lst = pdf['time'].tolist()\n",
    "    if part_id < 13:\n",
    "        order_list.append(\"viz_first\")\n",
    "        time_diff = time_lst[1] - time_lst[0]\n",
    "        time_diff_list.append(time_diff)\n",
    "    else:\n",
    "        order_list.append(\"none_first\")\n",
    "        # time_diff = time_lst[0] - time_lst[1]\n",
    "        time_diff = time_lst[1] - time_lst[0]\n",
    "        time_diff_list.append(time_diff)\n",
    "        \n",
    "print(pid_list)\n",
    "print(order_list)\n",
    "print(time_diff_list)"
   ]
  },
  {
   "cell_type": "code",
   "execution_count": 6,
   "metadata": {},
   "outputs": [],
   "source": [
    "# generate new dataframe\n",
    "df_dict = {\n",
    "    'pid': pid_list,\n",
    "    'cond_order': order_list,\n",
    "    'time_diff': time_diff_list\n",
    "}\n",
    "td_df = DataFrame(df_dict).sort_values(by=\"pid\")\n",
    "\n",
    "# write new dataframe to csv file\n",
    "dest_path = getcwd() + \"\\\\learning.csv\"\n",
    "td_df.to_csv(dest_path, index=False)"
   ]
  }
 ],
 "metadata": {
  "kernelspec": {
   "display_name": "Python 3",
   "language": "python",
   "name": "python3"
  },
  "language_info": {
   "codemirror_mode": {
    "name": "ipython",
    "version": 3
   },
   "file_extension": ".py",
   "mimetype": "text/x-python",
   "name": "python",
   "nbconvert_exporter": "python",
   "pygments_lexer": "ipython3",
   "version": "3.11.4"
  }
 },
 "nbformat": 4,
 "nbformat_minor": 2
}
