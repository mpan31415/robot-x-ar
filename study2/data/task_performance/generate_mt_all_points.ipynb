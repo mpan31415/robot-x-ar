{
 "cells": [
  {
   "cell_type": "code",
   "execution_count": 24,
   "id": "9659be00",
   "metadata": {},
   "outputs": [],
   "source": [
    "from pandas import read_csv, DataFrame\n",
    "from os import getcwd"
   ]
  },
  {
   "cell_type": "code",
   "execution_count": 25,
   "id": "c8960890",
   "metadata": {},
   "outputs": [],
   "source": [
    "def get_task_data():\n",
    "    my_file_dir = getcwd() + \"\\\\movement_time_no_outlier.csv\"\n",
    "    df = read_csv(my_file_dir)\n",
    "    return df"
   ]
  },
  {
   "cell_type": "code",
   "execution_count": 26,
   "id": "8b9ea211",
   "metadata": {},
   "outputs": [
    {
     "data": {
      "text/html": [
       "<div>\n",
       "<style scoped>\n",
       "    .dataframe tbody tr th:only-of-type {\n",
       "        vertical-align: middle;\n",
       "    }\n",
       "\n",
       "    .dataframe tbody tr th {\n",
       "        vertical-align: top;\n",
       "    }\n",
       "\n",
       "    .dataframe thead th {\n",
       "        text-align: right;\n",
       "    }\n",
       "</style>\n",
       "<table border=\"1\" class=\"dataframe\">\n",
       "  <thead>\n",
       "    <tr style=\"text-align: right;\">\n",
       "      <th></th>\n",
       "      <th>pid</th>\n",
       "      <th>condition</th>\n",
       "      <th>posture</th>\n",
       "      <th>time</th>\n",
       "      <th>cond_order</th>\n",
       "      <th>pose_order</th>\n",
       "    </tr>\n",
       "  </thead>\n",
       "  <tbody>\n",
       "    <tr>\n",
       "      <th>0</th>\n",
       "      <td>1</td>\n",
       "      <td>no</td>\n",
       "      <td>Q1FrontDown</td>\n",
       "      <td>9.4913</td>\n",
       "      <td>viz_first</td>\n",
       "      <td>po1</td>\n",
       "    </tr>\n",
       "    <tr>\n",
       "      <th>1</th>\n",
       "      <td>2</td>\n",
       "      <td>no</td>\n",
       "      <td>Q1FrontDown</td>\n",
       "      <td>11.2788</td>\n",
       "      <td>viz_first</td>\n",
       "      <td>po2</td>\n",
       "    </tr>\n",
       "    <tr>\n",
       "      <th>2</th>\n",
       "      <td>3</td>\n",
       "      <td>no</td>\n",
       "      <td>Q1FrontDown</td>\n",
       "      <td>58.4554</td>\n",
       "      <td>viz_first</td>\n",
       "      <td>po3</td>\n",
       "    </tr>\n",
       "    <tr>\n",
       "      <th>3</th>\n",
       "      <td>4</td>\n",
       "      <td>no</td>\n",
       "      <td>Q1FrontDown</td>\n",
       "      <td>46.8386</td>\n",
       "      <td>viz_first</td>\n",
       "      <td>po4</td>\n",
       "    </tr>\n",
       "    <tr>\n",
       "      <th>4</th>\n",
       "      <td>5</td>\n",
       "      <td>no</td>\n",
       "      <td>Q1FrontDown</td>\n",
       "      <td>35.6042</td>\n",
       "      <td>viz_first</td>\n",
       "      <td>po1</td>\n",
       "    </tr>\n",
       "  </tbody>\n",
       "</table>\n",
       "</div>"
      ],
      "text/plain": [
       "   pid condition      posture     time cond_order pose_order\n",
       "0    1        no  Q1FrontDown   9.4913  viz_first        po1\n",
       "1    2        no  Q1FrontDown  11.2788  viz_first        po2\n",
       "2    3        no  Q1FrontDown  58.4554  viz_first        po3\n",
       "3    4        no  Q1FrontDown  46.8386  viz_first        po4\n",
       "4    5        no  Q1FrontDown  35.6042  viz_first        po1"
      ]
     },
     "execution_count": 26,
     "metadata": {},
     "output_type": "execute_result"
    }
   ],
   "source": [
    "task_df = get_task_data()\n",
    "\n",
    "# generate new column for condition order [\"viz_first\", \"none_first\"]\n",
    "task_df['cond_order'] = task_df.apply(\n",
    "    lambda row: \"viz_first\" if row['pid'] <=12 else \"none_first\", axis=1\n",
    ")\n",
    "\n",
    "# generate new column for pose order [\"po1\", \"po2\", \"po3\", \"po4\"]\n",
    "pose_order_list = [\"po1\", \"po2\", \"po3\", \"po4\"]\n",
    "task_df['pose_order'] = task_df.apply(\n",
    "    lambda row: pose_order_list[row['pid'] % 4 - 1], axis=1\n",
    ")\n",
    "\n",
    "# rename \"mt\" column to \"time\"\n",
    "task_df.rename(columns={'mt': 'time'}, inplace=True)\n",
    "\n",
    "task_df.head()"
   ]
  },
  {
   "cell_type": "code",
   "execution_count": 27,
   "id": "3f6dd333",
   "metadata": {},
   "outputs": [],
   "source": [
    "# save the modified DataFrame to a new CSV file\n",
    "output_file_path = getcwd() + \"\\\\movement_time_all_points.csv\"\n",
    "\n",
    "task_df.to_csv(output_file_path, index=False)"
   ]
  }
 ],
 "metadata": {
  "kernelspec": {
   "display_name": "Python 3",
   "language": "python",
   "name": "python3"
  },
  "language_info": {
   "codemirror_mode": {
    "name": "ipython",
    "version": 3
   },
   "file_extension": ".py",
   "mimetype": "text/x-python",
   "name": "python",
   "nbconvert_exporter": "python",
   "pygments_lexer": "ipython3",
   "version": "3.11.4"
  }
 },
 "nbformat": 4,
 "nbformat_minor": 5
}
