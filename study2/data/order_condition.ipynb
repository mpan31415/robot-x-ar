{
 "cells": [
  {
   "cell_type": "code",
   "execution_count": 13,
   "metadata": {},
   "outputs": [],
   "source": [
    "from pandas import read_csv, DataFrame"
   ]
  },
  {
   "cell_type": "code",
   "execution_count": 14,
   "metadata": {},
   "outputs": [],
   "source": [
    "def get_all_data():\n",
    "    my_file_dir = \"merged_all_data.csv\"\n",
    "    df = read_csv(my_file_dir)\n",
    "    return df\n",
    "\n",
    "\n",
    "##########################################################################################\n",
    "def replace_outliers_within_group(df:DataFrame, group_columns:list, target_column:str):\n",
    "    # Reset index to ensure group_columns are not in the index\n",
    "    df = df.reset_index(drop=True)\n",
    "\n",
    "    # Function to calculate and replace outliers within each group\n",
    "    def replace(group):\n",
    "        Q1 = group[target_column].quantile(0.25)\n",
    "        Q3 = group[target_column].quantile(0.75)\n",
    "        IQR = Q3 - Q1\n",
    "        lower_bound = Q1 - 1.5 * IQR\n",
    "        upper_bound = Q3 + 1.5 * IQR\n",
    "        mean_value = group[(group[target_column] >= lower_bound) & (group[target_column] <= upper_bound)][target_column].mean()\n",
    "        group[target_column] = group[target_column].apply(lambda x: mean_value if x < lower_bound or x > upper_bound else x)\n",
    "        return group\n",
    "\n",
    "    # Apply the function to each subgroup\n",
    "    return df.groupby(group_columns).apply(replace).reset_index(drop=True)"
   ]
  },
  {
   "cell_type": "code",
   "execution_count": 15,
   "metadata": {},
   "outputs": [
    {
     "data": {
      "text/html": [
       "<div>\n",
       "<style scoped>\n",
       "    .dataframe tbody tr th:only-of-type {\n",
       "        vertical-align: middle;\n",
       "    }\n",
       "\n",
       "    .dataframe tbody tr th {\n",
       "        vertical-align: top;\n",
       "    }\n",
       "\n",
       "    .dataframe thead th {\n",
       "        text-align: right;\n",
       "    }\n",
       "</style>\n",
       "<table border=\"1\" class=\"dataframe\">\n",
       "  <thead>\n",
       "    <tr style=\"text-align: right;\">\n",
       "      <th></th>\n",
       "      <th>pid</th>\n",
       "      <th>condition</th>\n",
       "      <th>time</th>\n",
       "      <th>cond_order</th>\n",
       "    </tr>\n",
       "  </thead>\n",
       "  <tbody>\n",
       "    <tr>\n",
       "      <th>0</th>\n",
       "      <td>1</td>\n",
       "      <td>no</td>\n",
       "      <td>52.200</td>\n",
       "      <td>viz_first</td>\n",
       "    </tr>\n",
       "    <tr>\n",
       "      <th>1</th>\n",
       "      <td>2</td>\n",
       "      <td>no</td>\n",
       "      <td>105.725</td>\n",
       "      <td>viz_first</td>\n",
       "    </tr>\n",
       "    <tr>\n",
       "      <th>2</th>\n",
       "      <td>3</td>\n",
       "      <td>no</td>\n",
       "      <td>121.242</td>\n",
       "      <td>viz_first</td>\n",
       "    </tr>\n",
       "    <tr>\n",
       "      <th>3</th>\n",
       "      <td>4</td>\n",
       "      <td>no</td>\n",
       "      <td>188.917</td>\n",
       "      <td>viz_first</td>\n",
       "    </tr>\n",
       "    <tr>\n",
       "      <th>4</th>\n",
       "      <td>5</td>\n",
       "      <td>no</td>\n",
       "      <td>85.672</td>\n",
       "      <td>viz_first</td>\n",
       "    </tr>\n",
       "  </tbody>\n",
       "</table>\n",
       "</div>"
      ],
      "text/plain": [
       "   pid condition     time cond_order\n",
       "0    1        no   52.200  viz_first\n",
       "1    2        no  105.725  viz_first\n",
       "2    3        no  121.242  viz_first\n",
       "3    4        no  188.917  viz_first\n",
       "4    5        no   85.672  viz_first"
      ]
     },
     "execution_count": 15,
     "metadata": {},
     "output_type": "execute_result"
    }
   ],
   "source": [
    "df = get_all_data()\n",
    "df = df[['pid', 'condition', 'time', 'cond_order']]\n",
    "df.head(5)"
   ]
  },
  {
   "cell_type": "code",
   "execution_count": 21,
   "metadata": {},
   "outputs": [],
   "source": [
    "cond_order_list = df['cond_order'].tolist()\n",
    "cond_list = df['condition'].tolist()\n",
    "order_list = []\n",
    "\n",
    "for i in range(len(cond_list)):\n",
    "    cond = cond_list[i]\n",
    "    cond_order = cond_order_list[i]\n",
    "    if cond == \"no\":\n",
    "        if cond_order == \"none_first\":\n",
    "            order_list.append(\"trial1\")\n",
    "        else:\n",
    "            order_list.append(\"trial2\")\n",
    "    else:\n",
    "        if cond_order == \"viz_first\":\n",
    "            order_list.append(\"trial1\")\n",
    "        else:\n",
    "            order_list.append(\"trial2\")\n",
    "\n",
    "df['order'] = order_list\n",
    "\n",
    "df = replace_outliers_within_group(df, ['condition', 'order'], \"time\")\n",
    "\n",
    "# write new dataframe to csv file\n",
    "dest_path = \"order_interaction.csv\"\n",
    "df.to_csv(dest_path, index=False)"
   ]
  }
 ],
 "metadata": {
  "kernelspec": {
   "display_name": "Python 3",
   "language": "python",
   "name": "python3"
  },
  "language_info": {
   "codemirror_mode": {
    "name": "ipython",
    "version": 3
   },
   "file_extension": ".py",
   "mimetype": "text/x-python",
   "name": "python",
   "nbconvert_exporter": "python",
   "pygments_lexer": "ipython3",
   "version": "3.11.4"
  }
 },
 "nbformat": 4,
 "nbformat_minor": 2
}
