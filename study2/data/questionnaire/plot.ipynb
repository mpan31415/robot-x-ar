{
 "cells": [
  {
   "cell_type": "code",
   "execution_count": 1,
   "metadata": {},
   "outputs": [],
   "source": [
    "from os import getcwd\n",
    "import matplotlib.pyplot as plt\n",
    "from pandas import read_csv\n",
    "from scipy.stats import ttest_rel\n",
    "\n",
    "\n",
    "##########################################################################################\n",
    "def get_raw_data():\n",
    "    my_file_dir = getcwd() + \"\\\\main_form_cleaned.csv\"\n",
    "    df = read_csv(my_file_dir)\n",
    "    \n",
    "    print(\"\\n Finished reading raw csv file! \\n\")\n",
    "    \n",
    "    return df"
   ]
  },
  {
   "cell_type": "code",
   "execution_count": 2,
   "metadata": {},
   "outputs": [
    {
     "name": "stdout",
     "output_type": "stream",
     "text": [
      "\n",
      " Finished reading raw csv file! \n",
      "\n"
     ]
    },
    {
     "data": {
      "text/html": [
       "<div>\n",
       "<style scoped>\n",
       "    .dataframe tbody tr th:only-of-type {\n",
       "        vertical-align: middle;\n",
       "    }\n",
       "\n",
       "    .dataframe tbody tr th {\n",
       "        vertical-align: top;\n",
       "    }\n",
       "\n",
       "    .dataframe thead th {\n",
       "        text-align: right;\n",
       "    }\n",
       "</style>\n",
       "<table border=\"1\" class=\"dataframe\">\n",
       "  <thead>\n",
       "    <tr style=\"text-align: right;\">\n",
       "      <th></th>\n",
       "      <th>pid</th>\n",
       "      <th>condition</th>\n",
       "      <th>cond_order</th>\n",
       "      <th>pose_order</th>\n",
       "      <th>difficulty</th>\n",
       "      <th>tlx_mental</th>\n",
       "      <th>tlx_physical</th>\n",
       "      <th>tlx_hurried</th>\n",
       "      <th>tlx_successful</th>\n",
       "      <th>tlx_hard</th>\n",
       "      <th>tlx_insecure</th>\n",
       "      <th>tlx_ave</th>\n",
       "    </tr>\n",
       "  </thead>\n",
       "  <tbody>\n",
       "    <tr>\n",
       "      <th>0</th>\n",
       "      <td>1</td>\n",
       "      <td>yes</td>\n",
       "      <td>viz_first</td>\n",
       "      <td>po1</td>\n",
       "      <td>2.0</td>\n",
       "      <td>4.0</td>\n",
       "      <td>2.0</td>\n",
       "      <td>1.0</td>\n",
       "      <td>3.0</td>\n",
       "      <td>3.0</td>\n",
       "      <td>2.0</td>\n",
       "      <td>2.500000</td>\n",
       "    </tr>\n",
       "    <tr>\n",
       "      <th>1</th>\n",
       "      <td>1</td>\n",
       "      <td>no</td>\n",
       "      <td>viz_first</td>\n",
       "      <td>po1</td>\n",
       "      <td>2.0</td>\n",
       "      <td>2.0</td>\n",
       "      <td>2.0</td>\n",
       "      <td>1.0</td>\n",
       "      <td>2.0</td>\n",
       "      <td>1.0</td>\n",
       "      <td>1.0</td>\n",
       "      <td>1.500000</td>\n",
       "    </tr>\n",
       "    <tr>\n",
       "      <th>2</th>\n",
       "      <td>2</td>\n",
       "      <td>yes</td>\n",
       "      <td>viz_first</td>\n",
       "      <td>po2</td>\n",
       "      <td>3.0</td>\n",
       "      <td>5.0</td>\n",
       "      <td>5.0</td>\n",
       "      <td>7.0</td>\n",
       "      <td>12.0</td>\n",
       "      <td>6.0</td>\n",
       "      <td>3.0</td>\n",
       "      <td>6.333333</td>\n",
       "    </tr>\n",
       "    <tr>\n",
       "      <th>3</th>\n",
       "      <td>2</td>\n",
       "      <td>no</td>\n",
       "      <td>viz_first</td>\n",
       "      <td>po2</td>\n",
       "      <td>6.0</td>\n",
       "      <td>9.0</td>\n",
       "      <td>13.0</td>\n",
       "      <td>10.0</td>\n",
       "      <td>11.0</td>\n",
       "      <td>13.0</td>\n",
       "      <td>12.0</td>\n",
       "      <td>11.333333</td>\n",
       "    </tr>\n",
       "    <tr>\n",
       "      <th>4</th>\n",
       "      <td>3</td>\n",
       "      <td>yes</td>\n",
       "      <td>viz_first</td>\n",
       "      <td>po3</td>\n",
       "      <td>5.0</td>\n",
       "      <td>8.0</td>\n",
       "      <td>3.0</td>\n",
       "      <td>3.0</td>\n",
       "      <td>11.0</td>\n",
       "      <td>5.0</td>\n",
       "      <td>2.0</td>\n",
       "      <td>5.333333</td>\n",
       "    </tr>\n",
       "  </tbody>\n",
       "</table>\n",
       "</div>"
      ],
      "text/plain": [
       "   pid condition cond_order pose_order  difficulty  tlx_mental  tlx_physical  \\\n",
       "0    1       yes  viz_first        po1         2.0         4.0           2.0   \n",
       "1    1        no  viz_first        po1         2.0         2.0           2.0   \n",
       "2    2       yes  viz_first        po2         3.0         5.0           5.0   \n",
       "3    2        no  viz_first        po2         6.0         9.0          13.0   \n",
       "4    3       yes  viz_first        po3         5.0         8.0           3.0   \n",
       "\n",
       "   tlx_hurried  tlx_successful  tlx_hard  tlx_insecure    tlx_ave  \n",
       "0          1.0             3.0       3.0           2.0   2.500000  \n",
       "1          1.0             2.0       1.0           1.0   1.500000  \n",
       "2          7.0            12.0       6.0           3.0   6.333333  \n",
       "3         10.0            11.0      13.0          12.0  11.333333  \n",
       "4          3.0            11.0       5.0           2.0   5.333333  "
      ]
     },
     "execution_count": 2,
     "metadata": {},
     "output_type": "execute_result"
    }
   ],
   "source": [
    "df = get_raw_data()\n",
    "df.head()"
   ]
  },
  {
   "cell_type": "markdown",
   "metadata": {},
   "source": [
    "#### 1. Single-Scale Difficulty"
   ]
  },
  {
   "cell_type": "code",
   "execution_count": 3,
   "metadata": {},
   "outputs": [
    {
     "name": "stdout",
     "output_type": "stream",
     "text": [
      "TtestResult(statistic=-1.2817398889233116, pvalue=0.21270479886968688, df=23)\n"
     ]
    },
    {
     "data": {
      "image/png": "[encoded data removed]",
      "text/plain": [
       "<Figure size 640x480 with 1 Axes>"
      ]
     },
     "metadata": {},
     "output_type": "display_data"
    }
   ],
   "source": [
    "yes_diff_list = df[df['condition']==\"yes\"]['difficulty'].tolist()\n",
    "no_diff_list = df[df['condition']==\"no\"]['difficulty'].tolist()\n",
    "\n",
    "res = ttest_rel(yes_diff_list, no_diff_list)\n",
    "print(res)\n",
    "\n",
    "plt.boxplot([yes_diff_list, no_diff_list])\n",
    "plt.show()"
   ]
  },
  {
   "cell_type": "markdown",
   "metadata": {},
   "source": [
    "#### 2. Averaged NASA-TLX"
   ]
  },
  {
   "cell_type": "code",
   "execution_count": 4,
   "metadata": {},
   "outputs": [
    {
     "name": "stdout",
     "output_type": "stream",
     "text": [
      "TtestResult(statistic=-2.474576457524429, pvalue=0.02114500717694141, df=23)\n"
     ]
    },
    {
     "data": {
      "image/png": "[encoded data removed]",
      "text/plain": [
       "<Figure size 640x480 with 1 Axes>"
      ]
     },
     "metadata": {},
     "output_type": "display_data"
    }
   ],
   "source": [
    "yes_tlx_list = df[df['condition']==\"yes\"]['tlx_ave'].tolist()\n",
    "no_tlx_list = df[df['condition']==\"no\"]['tlx_ave'].tolist()\n",
    "\n",
    "res = ttest_rel(yes_tlx_list, no_tlx_list)\n",
    "print(res)\n",
    "\n",
    "plt.boxplot([yes_tlx_list, no_tlx_list])\n",
    "plt.show()"
   ]
  }
 ],
 "metadata": {
  "kernelspec": {
   "display_name": "Python 3",
   "language": "python",
   "name": "python3"
  },
  "language_info": {
   "codemirror_mode": {
    "name": "ipython",
    "version": 3
   },
   "file_extension": ".py",
   "mimetype": "text/x-python",
   "name": "python",
   "nbconvert_exporter": "python",
   "pygments_lexer": "ipython3",
   "version": "3.11.4"
  }
 },
 "nbformat": 4,
 "nbformat_minor": 2
}
