{
 "cells": [
  {
   "cell_type": "code",
   "execution_count": 1,
   "id": "76bdfafa",
   "metadata": {},
   "outputs": [],
   "source": [
    "from pandas import read_csv\n",
    "from os import getcwd\n",
    "import matplotlib.pyplot as plt\n",
    "\n",
    "%matplotlib inline"
   ]
  },
  {
   "cell_type": "code",
   "execution_count": 2,
   "id": "e66c6255",
   "metadata": {},
   "outputs": [],
   "source": [
    "##########################################################################################\n",
    "def get_df(file_name):\n",
    "    my_file_dir = getcwd() + \"\\\\..\\\\test\\\\\" + file_name + \".csv\"\n",
    "    df = read_csv(my_file_dir)\n",
    "    return df"
   ]
  },
  {
   "cell_type": "markdown",
   "id": "f52101b2",
   "metadata": {},
   "source": [
    "## 1. Removed Altogether"
   ]
  },
  {
   "cell_type": "code",
   "execution_count": 20,
   "id": "1fafea5f",
   "metadata": {},
   "outputs": [
    {
     "name": "stdout",
     "output_type": "stream",
     "text": [
      "Indices where mt and mt_no_outlier differ: [15, 16, 17, 19, 39, 43, 44, 91, 98, 101, 122, 123, 170, 176, 177]\n",
      "Total number of differences: 15\n",
      "Index: 123, PID: 16, Condition: no, MT: 143.3817, MT No Outlier: 37.5944581920904\n",
      "Index: 129, PID: 17, Condition: no, MT: 201.2916, MT No Outlier: 60.9561\n",
      "Index: 136, PID: 18, Condition: no, MT: 167.8209, MT No Outlier: 33.3044\n",
      "Index: 155, PID: 20, Condition: no, MT: 150.6748, MT No Outlier: 28.0017\n",
      "Index: 121, PID: 16, Condition: no, MT: 175.7583, MT No Outlier: 6.9722\n",
      "Index: 153, PID: 20, Condition: no, MT: 158.3085, MT No Outlier: 24.1265\n",
      "Index: 160, PID: 21, Condition: no, MT: 193.1155, MT No Outlier: 34.9441\n",
      "Index: 154, PID: 20, Condition: no, MT: 191.1275, MT No Outlier: 11.8347\n",
      "Index: 18, PID: 3, Condition: yes, MT: 134.3015, MT No Outlier: 66.7743\n",
      "Index: 40, PID: 6, Condition: yes, MT: 178.8129, MT No Outlier: 76.3007\n",
      "Index: 19, PID: 3, Condition: yes, MT: 165.4686, MT No Outlier: 37.5944581920904\n",
      "Index: 25, PID: 4, Condition: yes, MT: 154.1275, MT No Outlier: 73.342\n",
      "Index: 16, PID: 3, Condition: yes, MT: 128.7529, MT No Outlier: 37.5944581920904\n",
      "Index: 67, PID: 9, Condition: yes, MT: 135.3879, MT No Outlier: 41.8819\n",
      "Index: 73, PID: 10, Condition: yes, MT: 130.9352, MT No Outlier: 10.7759\n"
     ]
    }
   ],
   "source": [
    "mt_df = get_df(\"mt_full\")\n",
    "mt_no_outlier_df = get_df(\"mt_no_outlier_all\")\n",
    "# sort by \"condition\", then by \"posture\"\n",
    "mt_df = mt_df.sort_values(by=[\"condition\", \"posture\"])\n",
    "mt_no_outlier_df = mt_no_outlier_df.sort_values(by=[\"condition\", \"posture\"])\n",
    "\n",
    "mt_list = mt_df[\"mt\"].tolist()\n",
    "mt_no_outlier_list = mt_no_outlier_df[\"mt\"].tolist()\n",
    "assert len(mt_list) == len(mt_no_outlier_list), \"Length of mt and mt_no_outlier lists do not match.\"\n",
    "diff_indices = [i for i, (x, y) in enumerate(zip(mt_list, mt_no_outlier_list)) if x != y]\n",
    "print(\"Indices where mt and mt_no_outlier differ:\", diff_indices)\n",
    "print(\"Total number of differences:\", len(diff_indices))\n",
    "\n",
    "# get the rows where the mt and mt_no_outlier differ\n",
    "mt_diff_rows = mt_df.iloc[diff_indices]\n",
    "for index, row in mt_diff_rows.iterrows():\n",
    "    print(\"Index: {}, PID: {}, Condition: {}, MT: {}, MT No Outlier: {}\".format(\n",
    "        index, row[\"pid\"], row[\"condition\"], row[\"mt\"], mt_no_outlier_df.iloc[index][\"mt\"]\n",
    "    ))"
   ]
  },
  {
   "cell_type": "markdown",
   "id": "ff70ab73",
   "metadata": {},
   "source": [
    "## 2. Removed, Grouped by Condition"
   ]
  },
  {
   "cell_type": "code",
   "execution_count": null,
   "id": "6d73e9e8",
   "metadata": {},
   "outputs": [
    {
     "name": "stdout",
     "output_type": "stream",
     "text": [
      "Indices where mt and mt_no_outlier differ: [15, 16, 17, 19, 39, 43, 44, 91, 98, 99, 101, 105, 108, 122, 123, 126, 131, 139, 170, 176, 177]\n",
      "Total number of differences: 21\n",
      "Index: 123, PID: 16, Condition: no, MT: 143.3817, MT No Outlier: 31.043143373493976\n",
      "Index: 129, PID: 17, Condition: no, MT: 201.2916, MT No Outlier: 60.9561\n",
      "Index: 136, PID: 18, Condition: no, MT: 167.8209, MT No Outlier: 33.3044\n",
      "Index: 155, PID: 20, Condition: no, MT: 150.6748, MT No Outlier: 28.0017\n",
      "Index: 121, PID: 16, Condition: no, MT: 175.7583, MT No Outlier: 6.9722\n",
      "Index: 153, PID: 20, Condition: no, MT: 158.3085, MT No Outlier: 24.1265\n",
      "Index: 160, PID: 21, Condition: no, MT: 193.1155, MT No Outlier: 34.9441\n",
      "Index: 154, PID: 20, Condition: no, MT: 191.1275, MT No Outlier: 11.8347\n",
      "Index: 18, PID: 3, Condition: yes, MT: 134.3015, MT No Outlier: 66.7743\n",
      "Index: 27, PID: 4, Condition: yes, MT: 118.1582, MT No Outlier: 23.3856\n",
      "Index: 40, PID: 6, Condition: yes, MT: 178.8129, MT No Outlier: 76.3007\n",
      "Index: 72, PID: 10, Condition: yes, MT: 92.7573, MT No Outlier: 13.4058\n",
      "Index: 101, PID: 13, Condition: yes, MT: 90.7335, MT No Outlier: 31.043143373493976\n",
      "Index: 19, PID: 3, Condition: yes, MT: 165.4686, MT No Outlier: 39.43442727272727\n",
      "Index: 25, PID: 4, Condition: yes, MT: 154.1275, MT No Outlier: 73.342\n",
      "Index: 51, PID: 7, Condition: yes, MT: 93.9874, MT No Outlier: 102.9048\n",
      "Index: 89, PID: 12, Condition: yes, MT: 92.6075, MT No Outlier: 9.2426\n",
      "Index: 157, PID: 20, Condition: yes, MT: 119.1647, MT No Outlier: 38.8103\n",
      "Index: 16, PID: 3, Condition: yes, MT: 128.7529, MT No Outlier: 39.43442727272727\n",
      "Index: 67, PID: 9, Condition: yes, MT: 135.3879, MT No Outlier: 41.8819\n",
      "Index: 73, PID: 10, Condition: yes, MT: 130.9352, MT No Outlier: 10.7759\n"
     ]
    }
   ],
   "source": [
    "mt_df = get_df(\"mt_full\")\n",
    "mt_no_outlier_df = get_df(\"mt_no_outlier_by_cond\")\n",
    "# sort by \"condition\", then by \"posture\"\n",
    "mt_df = mt_df.sort_values(by=[\"condition\", \"posture\"])\n",
    "mt_no_outlier_df = mt_no_outlier_df.sort_values(by=[\"condition\", \"posture\"])\n",
    "\n",
    "mt_list = mt_df[\"mt\"].tolist()\n",
    "mt_no_outlier_list = mt_no_outlier_df[\"mt\"].tolist()\n",
    "assert len(mt_list) == len(mt_no_outlier_list), \"Length of mt and mt_no_outlier lists do not match.\"\n",
    "diff_indices = [i for i, (x, y) in enumerate(zip(mt_list, mt_no_outlier_list)) if x != y]\n",
    "print(\"Indices where mt and mt_no_outlier differ:\", diff_indices)\n",
    "print(\"Total number of differences:\", len(diff_indices))\n",
    "\n",
    "# get the rows where the mt and mt_no_outlier differ\n",
    "mt_diff_rows = mt_df.iloc[diff_indices]\n",
    "for index, row in mt_diff_rows.iterrows():\n",
    "    print(\"Index: {}, PID: {}, Condition: {}, MT: {}, MT No Outlier: {}\".format(\n",
    "        index, row[\"pid\"], row[\"condition\"], row[\"mt\"], mt_no_outlier_df.iloc[index][\"mt\"]\n",
    "    ))"
   ]
  }
 ],
 "metadata": {
  "kernelspec": {
   "display_name": "Python 3",
   "language": "python",
   "name": "python3"
  },
  "language_info": {
   "codemirror_mode": {
    "name": "ipython",
    "version": 3
   },
   "file_extension": ".py",
   "mimetype": "text/x-python",
   "name": "python",
   "nbconvert_exporter": "python",
   "pygments_lexer": "ipython3",
   "version": "3.11.4"
  }
 },
 "nbformat": 4,
 "nbformat_minor": 5
}
