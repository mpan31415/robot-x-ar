{
 "cells": [
  {
   "cell_type": "code",
   "execution_count": 4,
   "metadata": {},
   "outputs": [],
   "source": [
    "from pandas import read_csv, DataFrame\n",
    "from os import getcwd"
   ]
  },
  {
   "cell_type": "code",
   "execution_count": 2,
   "metadata": {},
   "outputs": [],
   "source": [
    "##########################################################################################\n",
    "def get_demo_data():\n",
    "    my_file_dir = getcwd() + \"\\\\demographics\\\\demo_cleaned.csv\"\n",
    "    df = read_csv(my_file_dir)\n",
    "    return df\n",
    "\n",
    "##########################################################################################\n",
    "def get_form_data():\n",
    "    my_file_dir = getcwd() + \"\\\\questionnaire\\\\main_form_cleaned.csv\"\n",
    "    df = read_csv(my_file_dir)\n",
    "    return df\n",
    "\n",
    "##########################################################################################\n",
    "def get_task_data():\n",
    "    my_file_dir = getcwd() + \"\\\\task_performance\\\\movement_time.csv\"\n",
    "    df = read_csv(my_file_dir)\n",
    "    return df"
   ]
  },
  {
   "cell_type": "code",
   "execution_count": 5,
   "metadata": {},
   "outputs": [],
   "source": [
    "##########################################################################################\n",
    "def replace_outliers_within_group(df:DataFrame, group_columns:list, target_column:str):\n",
    "    # Reset index to ensure group_columns are not in the index\n",
    "    df = df.reset_index(drop=True)\n",
    "\n",
    "    # Function to calculate and replace outliers within each group\n",
    "    def replace(group):\n",
    "        Q1 = group[target_column].quantile(0.25)\n",
    "        Q3 = group[target_column].quantile(0.75)\n",
    "        IQR = Q3 - Q1\n",
    "        lower_bound = Q1 - 1.5 * IQR\n",
    "        upper_bound = Q3 + 1.5 * IQR\n",
    "        mean_value = group[(group[target_column] >= lower_bound) & (group[target_column] <= upper_bound)][target_column].mean()\n",
    "        group[target_column] = group[target_column].apply(lambda x: mean_value if x < lower_bound or x > upper_bound else x)\n",
    "        return group\n",
    "\n",
    "    # Apply the function to each subgroup\n",
    "    return df.groupby(group_columns).apply(replace).reset_index(drop=True)"
   ]
  },
  {
   "cell_type": "code",
   "execution_count": 12,
   "metadata": {},
   "outputs": [
    {
     "name": "stdout",
     "output_type": "stream",
     "text": [
      " Successfully written merged questionnaire data to csv file! \n",
      "\n",
      "Removing outliers for column = average_mt\n",
      "Removing outliers for column = average_skip_first_mt\n",
      " Successfully written merged task performance data to csv file! \n",
      "\n"
     ]
    }
   ],
   "source": [
    "demo_df = get_demo_data()\n",
    "\n",
    "form_df = get_form_data()\n",
    "\n",
    "task_df = get_task_data()\n",
    "\n",
    "\n",
    "# merge demographics with questionnaire dataframe\n",
    "merged_form_df = form_df.merge(demo_df)\n",
    "# cols_not_to_check = ['pid','condition']\n",
    "# print(merged_form_df)\n",
    "dest_path1 = getcwd() + \"\\\\merged_form_data.csv\"\n",
    "merged_form_df.to_csv(dest_path1, index=False)\n",
    "print(\" Successfully written merged questionnaire data to csv file! \\n\")\n",
    "\n",
    "\n",
    "# merge demographics with task performance dataframe\n",
    "merged_task_df = task_df.merge(demo_df)\n",
    "cols_to_check = ['average_mt', 'average_skip_first_mt']\n",
    "############ loop through all columns of dataframe and remove outliers ############\n",
    "for col in list(merged_task_df.columns):\n",
    "    if col in cols_to_check:\n",
    "        print(\"Removing outliers for column = %s\" % col)\n",
    "        merged_task_df = replace_outliers_within_group(merged_task_df, ['condition', 'trial'], col)\n",
    "\n",
    "dest_path2 = getcwd() + \"\\\\merged_performance_data.csv\"\n",
    "merged_task_df.to_csv(dest_path2, index=False)\n",
    "print(\" Successfully written merged task performance data to csv file! \\n\")"
   ]
  }
 ],
 "metadata": {
  "kernelspec": {
   "display_name": "Python 3",
   "language": "python",
   "name": "python3"
  },
  "language_info": {
   "codemirror_mode": {
    "name": "ipython",
    "version": 3
   },
   "file_extension": ".py",
   "mimetype": "text/x-python",
   "name": "python",
   "nbconvert_exporter": "python",
   "pygments_lexer": "ipython3",
   "version": "3.11.4"
  }
 },
 "nbformat": 4,
 "nbformat_minor": 2
}
