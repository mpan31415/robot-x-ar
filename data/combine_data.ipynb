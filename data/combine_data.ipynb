{
 "cells": [
  {
   "cell_type": "code",
   "execution_count": 1,
   "metadata": {},
   "outputs": [],
   "source": [
    "from pandas import read_csv\n",
    "from os import getcwd"
   ]
  },
  {
   "cell_type": "code",
   "execution_count": 12,
   "metadata": {},
   "outputs": [],
   "source": [
    "##########################################################################################\n",
    "def get_demo_data():\n",
    "    my_file_dir = getcwd() + \"\\\\demographics\\\\demo_cleaned.csv\"\n",
    "    df = read_csv(my_file_dir)\n",
    "    return df\n",
    "\n",
    "##########################################################################################\n",
    "def get_form_data():\n",
    "    my_file_dir = getcwd() + \"\\\\questionnaire\\\\main_form_cleaned.csv\"\n",
    "    df = read_csv(my_file_dir)\n",
    "    return df\n",
    "\n",
    "##########################################################################################\n",
    "def get_task_data():\n",
    "    my_file_dir = getcwd() + \"\\\\task_performance\\\\movement_time.csv\"\n",
    "    df = read_csv(my_file_dir)\n",
    "    return df"
   ]
  },
  {
   "cell_type": "code",
   "execution_count": 20,
   "metadata": {},
   "outputs": [
    {
     "name": "stdout",
     "output_type": "stream",
     "text": [
      " Successfully written merged questionnaire data to csv file! \n",
      "\n",
      " Successfully written merged task performance data to csv file! \n",
      "\n"
     ]
    }
   ],
   "source": [
    "demo_df = get_demo_data()\n",
    "\n",
    "form_df = get_form_data()\n",
    "\n",
    "task_df = get_task_data()\n",
    "\n",
    "\n",
    "# merge demographics with questionnaire dataframe\n",
    "merged_form_df = form_df.merge(demo_df)\n",
    "dest_path1 = getcwd() + \"\\\\merged_form_data.csv\"\n",
    "merged_form_df.to_csv(dest_path1, index=False)\n",
    "print(\" Successfully written merged questionnaire data to csv file! \\n\")\n",
    "\n",
    "\n",
    "# merge demographics with task performance dataframe\n",
    "merged_task_df = task_df.merge(demo_df)\n",
    "dest_path2 = getcwd() + \"\\\\merged_performance_data.csv\"\n",
    "merged_task_df.to_csv(dest_path2, index=False)\n",
    "print(\" Successfully written merged task performance data to csv file! \\n\")"
   ]
  }
 ],
 "metadata": {
  "kernelspec": {
   "display_name": "Python 3",
   "language": "python",
   "name": "python3"
  },
  "language_info": {
   "codemirror_mode": {
    "name": "ipython",
    "version": 3
   },
   "file_extension": ".py",
   "mimetype": "text/x-python",
   "name": "python",
   "nbconvert_exporter": "python",
   "pygments_lexer": "ipython3",
   "version": "3.11.4"
  }
 },
 "nbformat": 4,
 "nbformat_minor": 2
}
