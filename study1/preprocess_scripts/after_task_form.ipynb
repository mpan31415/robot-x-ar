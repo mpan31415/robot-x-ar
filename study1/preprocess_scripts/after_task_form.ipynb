{
 "cells": [
  {
   "cell_type": "code",
   "execution_count": 35,
   "metadata": {},
   "outputs": [],
   "source": [
    "from pandas import read_csv, DataFrame\n",
    "import matplotlib.pyplot as plt\n",
    "from scipy.stats import f_oneway, ttest_rel\n",
    "from itertools import combinations\n",
    "\n",
    "NUM_PARTICIPANTS = 24"
   ]
  },
  {
   "cell_type": "code",
   "execution_count": 13,
   "metadata": {},
   "outputs": [],
   "source": [
    "##########################################################################################\n",
    "def get_form_data():\n",
    "    \n",
    "    my_file_dir = 'c:\\\\Users\\\\micha\\\\OneDrive\\\\My_GitHub_Repos\\\\robot-x-ar\\\\study1\\\\data\\\\questionnaire\\\\after_task_form_cleaned.csv'\n",
    "    big_df = read_csv(my_file_dir)\n",
    "    num_cols = big_df.shape[1]\n",
    "    df = big_df.iloc[2:, 17:num_cols]\n",
    "    # df = df.fillna(1)\n",
    "    # df.drop(1, axis=\"index\", inplace=True)\n",
    "    # df.reset_index(drop=True, inplace=True)\n",
    "    \n",
    "    print(\"\\n Finished reading raw csv file! \\n\")\n",
    "    \n",
    "    return df"
   ]
  },
  {
   "cell_type": "code",
   "execution_count": 15,
   "metadata": {},
   "outputs": [
    {
     "name": "stdout",
     "output_type": "stream",
     "text": [
      "\n",
      " Finished reading raw csv file! \n",
      "\n"
     ]
    },
    {
     "data": {
      "text/html": [
       "<div>\n",
       "<style scoped>\n",
       "    .dataframe tbody tr th:only-of-type {\n",
       "        vertical-align: middle;\n",
       "    }\n",
       "\n",
       "    .dataframe tbody tr th {\n",
       "        vertical-align: top;\n",
       "    }\n",
       "\n",
       "    .dataframe thead th {\n",
       "        text-align: right;\n",
       "    }\n",
       "</style>\n",
       "<table border=\"1\" class=\"dataframe\">\n",
       "  <thead>\n",
       "    <tr style=\"text-align: right;\">\n",
       "      <th></th>\n",
       "      <th>Q1</th>\n",
       "      <th>Q2</th>\n",
       "      <th>Q3</th>\n",
       "      <th>Q4</th>\n",
       "      <th>Q5_1</th>\n",
       "      <th>Q5_2</th>\n",
       "      <th>Q5_3</th>\n",
       "      <th>Q5_4</th>\n",
       "      <th>Q6</th>\n",
       "    </tr>\n",
       "  </thead>\n",
       "  <tbody>\n",
       "    <tr>\n",
       "      <th>2</th>\n",
       "      <td>1</td>\n",
       "      <td>Yes. It helps to project the interaction of my...</td>\n",
       "      <td>Human arm in robot orientation felt better bec...</td>\n",
       "      <td>The human arm was better</td>\n",
       "      <td>4</td>\n",
       "      <td>2</td>\n",
       "      <td>1</td>\n",
       "      <td>3</td>\n",
       "      <td>NaN</td>\n",
       "    </tr>\n",
       "    <tr>\n",
       "      <th>3</th>\n",
       "      <td>2</td>\n",
       "      <td>Yes, because it can give me a preview of which...</td>\n",
       "      <td>It’s better with my own arm</td>\n",
       "      <td>Virtual human arm</td>\n",
       "      <td>3</td>\n",
       "      <td>1</td>\n",
       "      <td>2</td>\n",
       "      <td>4</td>\n",
       "      <td>The hologram of the robot arm make me think mo...</td>\n",
       "    </tr>\n",
       "    <tr>\n",
       "      <th>4</th>\n",
       "      <td>3</td>\n",
       "      <td>No. I still focus on the movement of the real ...</td>\n",
       "      <td>Yes</td>\n",
       "      <td>Robot arm. Human arm is horrible.</td>\n",
       "      <td>1</td>\n",
       "      <td>2</td>\n",
       "      <td>3</td>\n",
       "      <td>4</td>\n",
       "      <td>NaN</td>\n",
       "    </tr>\n",
       "    <tr>\n",
       "      <th>5</th>\n",
       "      <td>4</td>\n",
       "      <td>Yes</td>\n",
       "      <td>No</td>\n",
       "      <td>No</td>\n",
       "      <td>1</td>\n",
       "      <td>2</td>\n",
       "      <td>3</td>\n",
       "      <td>4</td>\n",
       "      <td>NaN</td>\n",
       "    </tr>\n",
       "    <tr>\n",
       "      <th>6</th>\n",
       "      <td>5</td>\n",
       "      <td>It’s very helpful especially the vertical huma...</td>\n",
       "      <td>It was a lot more helpful with the virtual arm...</td>\n",
       "      <td>Virtual human arm</td>\n",
       "      <td>4</td>\n",
       "      <td>2</td>\n",
       "      <td>1</td>\n",
       "      <td>3</td>\n",
       "      <td>The vertical human arm makes me feel like I’m ...</td>\n",
       "    </tr>\n",
       "  </tbody>\n",
       "</table>\n",
       "</div>"
      ],
      "text/plain": [
       "  Q1                                                 Q2  \\\n",
       "2  1  Yes. It helps to project the interaction of my...   \n",
       "3  2  Yes, because it can give me a preview of which...   \n",
       "4  3  No. I still focus on the movement of the real ...   \n",
       "5  4                                                Yes   \n",
       "6  5  It’s very helpful especially the vertical huma...   \n",
       "\n",
       "                                                  Q3  \\\n",
       "2  Human arm in robot orientation felt better bec...   \n",
       "3                        It’s better with my own arm   \n",
       "4                                                Yes   \n",
       "5                                                 No   \n",
       "6  It was a lot more helpful with the virtual arm...   \n",
       "\n",
       "                                  Q4 Q5_1 Q5_2 Q5_3 Q5_4  \\\n",
       "2           The human arm was better    4    2    1    3   \n",
       "3                  Virtual human arm    3    1    2    4   \n",
       "4  Robot arm. Human arm is horrible.    1    2    3    4   \n",
       "5                                 No    1    2    3    4   \n",
       "6                  Virtual human arm    4    2    1    3   \n",
       "\n",
       "                                                  Q6  \n",
       "2                                                NaN  \n",
       "3  The hologram of the robot arm make me think mo...  \n",
       "4                                                NaN  \n",
       "5                                                NaN  \n",
       "6  The vertical human arm makes me feel like I’m ...  "
      ]
     },
     "execution_count": 15,
     "metadata": {},
     "output_type": "execute_result"
    }
   ],
   "source": [
    "form_df = get_form_data()\n",
    "form_df.head()"
   ]
  },
  {
   "cell_type": "markdown",
   "metadata": {},
   "source": [
    "#### Plotting of distribution of preferences for each type of visualization"
   ]
  },
  {
   "cell_type": "code",
   "execution_count": 24,
   "metadata": {},
   "outputs": [
    {
     "data": {
      "image/png": "[encoded data removed]",
      "text/plain": [
       "<Figure size 1000x600 with 4 Axes>"
      ]
     },
     "metadata": {},
     "output_type": "display_data"
    }
   ],
   "source": [
    "A_pref_lst = form_df['Q5_1'].apply(lambda x: int(x)).tolist()\n",
    "B_pref_lst = form_df['Q5_2'].apply(lambda x: int(x)).tolist()\n",
    "C_pref_lst = form_df['Q5_3'].apply(lambda x: int(x)).tolist()\n",
    "D_pref_lst = form_df['Q5_4'].apply(lambda x: int(x)).tolist()\n",
    "\n",
    "# plot the distribution of preferences for each visualization\n",
    "plt.rcParams[\"figure.figsize\"] = (10, 6)\n",
    "\n",
    "plt.subplot(2, 2, 1)\n",
    "plt.hist(A_pref_lst)\n",
    "plt.title(\"A - Baseline\")\n",
    "\n",
    "plt.subplot(2, 2, 2)\n",
    "plt.hist(B_pref_lst)\n",
    "plt.title(\"B - Human Arm Horizontal\")\n",
    "\n",
    "plt.subplot(2, 2, 3)\n",
    "plt.hist(C_pref_lst)\n",
    "plt.title(\"C - Human Arm Vertical\")\n",
    "\n",
    "plt.subplot(2, 2, 4)\n",
    "plt.hist(D_pref_lst)\n",
    "plt.title(\"D - Robot Arm Horizontal\")\n",
    "\n",
    "plt.show()"
   ]
  },
  {
   "cell_type": "markdown",
   "metadata": {},
   "source": [
    "#### Average ranking for each type of visualization"
   ]
  },
  {
   "cell_type": "code",
   "execution_count": 26,
   "metadata": {},
   "outputs": [
    {
     "name": "stdout",
     "output_type": "stream",
     "text": [
      "Averaged ranks for (A, B, C, D) = (2.54, 2.38, 2.08, 3.00)\n"
     ]
    }
   ],
   "source": [
    "A_ave_rank = sum(A_pref_lst) / len(A_pref_lst)\n",
    "B_ave_rank = sum(B_pref_lst) / len(B_pref_lst)\n",
    "C_ave_rank = sum(C_pref_lst) / len(C_pref_lst)\n",
    "D_ave_rank = sum(D_pref_lst) / len(D_pref_lst)\n",
    "\n",
    "print(\"Averaged ranks for (A, B, C, D) = (%.2f, %.2f, %.2f, %.2f)\" % (A_ave_rank, B_ave_rank, C_ave_rank, D_ave_rank))"
   ]
  },
  {
   "cell_type": "markdown",
   "metadata": {},
   "source": [
    "#### Distribution of visualizations for each preference"
   ]
  },
  {
   "cell_type": "code",
   "execution_count": 44,
   "metadata": {},
   "outputs": [
    {
     "name": "stdout",
     "output_type": "stream",
     "text": [
      "Frequencies of rank 1 = (9, 4, 9, 2)\n",
      "Frequencies of rank 2 = (2, 11, 5, 6)\n",
      "Frequencies of rank 3 = (4, 5, 9, 6)\n",
      "Frequencies of rank 4 = (9, 4, 1, 10)\n"
     ]
    }
   ],
   "source": [
    "A_top_count = A_pref_lst.count(1)\n",
    "B_top_count = B_pref_lst.count(1)\n",
    "C_top_count = C_pref_lst.count(1)\n",
    "D_top_count = D_pref_lst.count(1)\n",
    "print(\"Frequencies of rank 1 = (%d, %d, %d, %d)\" % (A_top_count, B_top_count, C_top_count, D_top_count))\n",
    "\n",
    "A_top_count = A_pref_lst.count(2)\n",
    "B_top_count = B_pref_lst.count(2)\n",
    "C_top_count = C_pref_lst.count(2)\n",
    "D_top_count = D_pref_lst.count(2)\n",
    "print(\"Frequencies of rank 2 = (%d, %d, %d, %d)\" % (A_top_count, B_top_count, C_top_count, D_top_count))\n",
    "\n",
    "A_top_count = A_pref_lst.count(3)\n",
    "B_top_count = B_pref_lst.count(3)\n",
    "C_top_count = C_pref_lst.count(3)\n",
    "D_top_count = D_pref_lst.count(3)\n",
    "print(\"Frequencies of rank 3 = (%d, %d, %d, %d)\" % (A_top_count, B_top_count, C_top_count, D_top_count))\n",
    "\n",
    "A_top_count = A_pref_lst.count(4)\n",
    "B_top_count = B_pref_lst.count(4)\n",
    "C_top_count = C_pref_lst.count(4)\n",
    "D_top_count = D_pref_lst.count(4)\n",
    "print(\"Frequencies of rank 4 = (%d, %d, %d, %d)\" % (A_top_count, B_top_count, C_top_count, D_top_count))"
   ]
  },
  {
   "cell_type": "markdown",
   "metadata": {},
   "source": [
    "#### ANOVA Test"
   ]
  },
  {
   "cell_type": "code",
   "execution_count": 28,
   "metadata": {},
   "outputs": [
    {
     "data": {
      "text/plain": [
       "F_onewayResult(statistic=2.966235085046966, pvalue=0.036078158961685716)"
      ]
     },
     "execution_count": 28,
     "metadata": {},
     "output_type": "execute_result"
    }
   ],
   "source": [
    "f_oneway(A_pref_lst, B_pref_lst, C_pref_lst, D_pref_lst)"
   ]
  },
  {
   "cell_type": "markdown",
   "metadata": {},
   "source": [
    "#### Paired t-test between all pairs of rankings"
   ]
  },
  {
   "cell_type": "code",
   "execution_count": 40,
   "metadata": {},
   "outputs": [
    {
     "name": "stdout",
     "output_type": "stream",
     "text": [
      "[(0, 1), (0, 2), (0, 3), (1, 2), (1, 3), (2, 3)]\n",
      "TtestResult(statistic=0.4289522117905444, pvalue=0.6719490765460852, df=23)\n",
      "TtestResult(statistic=1.0992833097295414, pvalue=0.2830184086999493, df=23)\n",
      "TtestResult(statistic=-1.0880034903739644, pvalue=0.2878637328228618, df=23)\n",
      "TtestResult(statistic=0.9416492888346827, pvalue=0.356158355703735, df=23)\n",
      "TtestResult(statistic=-1.9016708972001073, pvalue=0.06981316432874962, df=23)\n",
      "TtestResult(statistic=-3.113978823225723, pvalue=0.0048830352941703755, df=23)\n"
     ]
    }
   ],
   "source": [
    "prefs = [A_pref_lst, B_pref_lst, C_pref_lst, D_pref_lst]\n",
    "prefs_idx = [0, 1, 2, 3]\n",
    "pref_pairs = list(combinations(prefs_idx, 2))\n",
    "print(pref_pairs)\n",
    "for pair in pref_pairs:\n",
    "    res = ttest_rel(prefs[pair[0]], prefs[pair[1]])\n",
    "    print(res)"
   ]
  },
  {
   "cell_type": "markdown",
   "metadata": {},
   "source": [
    "#### Export ranking to new data file "
   ]
  },
  {
   "cell_type": "code",
   "execution_count": 33,
   "metadata": {},
   "outputs": [
    {
     "name": "stdout",
     "output_type": "stream",
     "text": [
      " Successfully written pre-processed data to csv file! \n",
      "\n"
     ]
    }
   ],
   "source": [
    "pid_lst = [i for i in range(1, 25)]+[i for i in range(1, 25)]+[i for i in range(1, 25)]+[i for i in range(1, 25)]\n",
    "cond_lst = [\"A\" for i in range(24)] + [\"B\" for i in range(24)] + [\"C\" for i in range(24)] + [\"D\" for i in range(24)]\n",
    "rank_lst = A_pref_lst + B_pref_lst + C_pref_lst + D_pref_lst\n",
    "\n",
    "# generate new dataframe\n",
    "df_dict = {\n",
    "    'pid': pid_lst,\n",
    "    'condition': cond_lst,\n",
    "    'ranking': rank_lst\n",
    "}\n",
    "cleaned_df = DataFrame(df_dict)\n",
    "\n",
    "# write new dataframe to csv file\n",
    "dest_path = 'c:\\\\Users\\\\micha\\\\OneDrive\\\\My_GitHub_Repos\\\\robot-x-ar\\\\study1\\\\data\\\\questionnaire\\\\vis_ranking.csv'\n",
    "cleaned_df.to_csv(dest_path, index=False)\n",
    "\n",
    "print(\" Successfully written pre-processed data to csv file! \\n\")"
   ]
  }
 ],
 "metadata": {
  "kernelspec": {
   "display_name": "Python 3",
   "language": "python",
   "name": "python3"
  },
  "language_info": {
   "codemirror_mode": {
    "name": "ipython",
    "version": 3
   },
   "file_extension": ".py",
   "mimetype": "text/x-python",
   "name": "python",
   "nbconvert_exporter": "python",
   "pygments_lexer": "ipython3",
   "version": "3.11.4"
  }
 },
 "nbformat": 4,
 "nbformat_minor": 2
}
